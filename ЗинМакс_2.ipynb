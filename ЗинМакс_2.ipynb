{
 "cells": [
  {
   "cell_type": "markdown",
   "id": "c35aba98-f4a7-4d64-b121-0dbed94db2ed",
   "metadata": {},
   "source": [
    "# Домашнее задание 2 — Зиновьев Максим\n",
    "\n",
    "## Содержание:\n",
    "1. Выгрузка ленты пользователя ВКонтакте по ID и запись ее в CSV-файл\n",
    "2. Построение гистограмм по метрикам авторов ВКонтакте"
   ]
  },
  {
   "cell_type": "markdown",
   "id": "c873271a-a227-41be-82d9-57b49e3569a0",
   "metadata": {},
   "source": [
    "## Пример выгрузки данных из VK API и запись в CSV\n",
    "Импортирую необходимые библиотеки:"
   ]
  },
  {
   "cell_type": "code",
   "execution_count": 1,
   "id": "3c2c4e03-1e62-4a6c-ab13-b1c7ec03f5a8",
   "metadata": {},
   "outputs": [],
   "source": [
    "import requests\n",
    "import pandas as pd\n",
    "import numpy as np\n",
    "import matplotlib.pyplot as plt"
   ]
  },
  {
   "cell_type": "markdown",
   "id": "0aad5a17-5437-445b-9117-404e349899ce",
   "metadata": {},
   "source": [
    "Ключ от API сохранил в отдельном файле, чтобы не демонстрировать его публично"
   ]
  },
  {
   "cell_type": "code",
   "execution_count": 5,
   "id": "a4aef21e-d0c8-4da1-b833-02ff70ad8921",
   "metadata": {},
   "outputs": [],
   "source": [
    "with open(\"C:/Jupyter_Notebooks/token.txt\") as f:\n",
    "  token = f.read()"
   ]
  },
  {
   "cell_type": "markdown",
   "id": "c899a5b5-ca95-4892-9ea9-c042dca39b02",
   "metadata": {},
   "source": [
    "Для удобства выгрузки данных написал функцию для выполнения http-запросов к VK API"
   ]
  },
  {
   "cell_type": "code",
   "execution_count": 6,
   "id": "13b986fc-a051-47dd-b779-cf981fed9683",
   "metadata": {},
   "outputs": [],
   "source": [
    "def wallGet(owner_id, offset):\n",
    "    version = '5.199'\n",
    "    url = 'https://api.vk.com/method/wall.get?owner_id=' + str(owner_id) + '&count=100&offset=' + str(offset) + '&v=' + version + '&access_token=' +  token\n",
    "    response = requests.get(url)\n",
    "    return response.json().get('response')"
   ]
  },
  {
   "cell_type": "markdown",
   "id": "e9be2aa2-026a-4fbd-8d59-097a2a6b6748",
   "metadata": {},
   "source": [
    "Создал Python-словарь, чтобы наполнить его данными запросов и преобразовать в Pandas-датафрейм"
   ]
  },
  {
   "cell_type": "code",
   "execution_count": 35,
   "id": "430061d9-bc84-408d-8ef7-006f31ab3f83",
   "metadata": {},
   "outputs": [],
   "source": [
    "feed = {\n",
    "        'post_id': [],\n",
    "        'text': [],\n",
    "        'likes': [],\n",
    "        'comments': [],\n",
    "        'views': []\n",
    "    }"
   ]
  },
  {
   "cell_type": "markdown",
   "id": "72d25d11-a288-4b1c-9565-91c155d58f8b",
   "metadata": {},
   "source": [
    "Написал код для записи 100 последних постов из группы ВКонтакте в **CSV-файл**. Для примера можно ввести ```91031095```"
   ]
  },
  {
   "cell_type": "code",
   "execution_count": null,
   "id": "69f10f77-22d2-4839-9a7f-cc8b320e5170",
   "metadata": {},
   "outputs": [],
   "source": [
    "group_id = input(\"Введите ID группы, стену которой хотите выгрузить\")\n",
    "\n",
    "wall = wallGet('-' + str(group_id), 0)\n",
    "\n",
    "if wall != None:\n",
    "    wall = wall['items']\n",
    "    feed['post_id'].extend([post.get('id') for post in wall])      \n",
    "    feed['text'].extend([post.get('text') for post in wall])         \n",
    "    feed['likes'].extend([post.get('likes').get('count') if post.get('likes') != None else None for post in wall])         \n",
    "    feed['comments'].extend([post.get('comments').get('count') if post.get('comments') != None else None for post in wall])       \n",
    "    feed['views'].extend([post.get('views').get('count') if post.get('views') != None else None for post in wall])\n",
    "\n",
    "df = pd.DataFrame(feed, index = feed['post_id'])\n",
    "df.to_csv('Лента_' + group_id)"
   ]
  },
  {
   "cell_type": "markdown",
   "id": "b6ebf71a-9f53-4c94-876f-cdf67152e0aa",
   "metadata": {},
   "source": [
    "Считаем записанный файл"
   ]
  },
  {
   "cell_type": "code",
   "execution_count": 49,
   "id": "7c19ae10-2653-48af-9026-12cacdb6c15a",
   "metadata": {},
   "outputs": [],
   "source": [
    "df = pd.read_csv(\"C:/Users/zinov/Jupyter_Notebook/Лента_91031095\", index_col = 'post_id')"
   ]
  },
  {
   "cell_type": "code",
   "execution_count": 51,
   "id": "84283648-5326-42a9-8258-b967f261ae18",
   "metadata": {},
   "outputs": [
    {
     "data": {
      "text/html": [
       "<div>\n",
       "<style scoped>\n",
       "    .dataframe tbody tr th:only-of-type {\n",
       "        vertical-align: middle;\n",
       "    }\n",
       "\n",
       "    .dataframe tbody tr th {\n",
       "        vertical-align: top;\n",
       "    }\n",
       "\n",
       "    .dataframe thead th {\n",
       "        text-align: right;\n",
       "    }\n",
       "</style>\n",
       "<table border=\"1\" class=\"dataframe\">\n",
       "  <thead>\n",
       "    <tr style=\"text-align: right;\">\n",
       "      <th></th>\n",
       "      <th>text</th>\n",
       "      <th>likes</th>\n",
       "      <th>comments</th>\n",
       "      <th>views</th>\n",
       "    </tr>\n",
       "    <tr>\n",
       "      <th>post_id</th>\n",
       "      <th></th>\n",
       "      <th></th>\n",
       "      <th></th>\n",
       "      <th></th>\n",
       "    </tr>\n",
       "  </thead>\n",
       "  <tbody>\n",
       "    <tr>\n",
       "      <th>74151</th>\n",
       "      <td>«Никто не воспринимал всерьез то, что я делал,...</td>\n",
       "      <td>28</td>\n",
       "      <td>1</td>\n",
       "      <td>894</td>\n",
       "    </tr>\n",
       "    <tr>\n",
       "      <th>74140</th>\n",
       "      <td>#юмор #математика</td>\n",
       "      <td>9</td>\n",
       "      <td>1</td>\n",
       "      <td>1950</td>\n",
       "    </tr>\n",
       "    <tr>\n",
       "      <th>74115</th>\n",
       "      <td>#задача #математика #геометрия</td>\n",
       "      <td>33</td>\n",
       "      <td>24</td>\n",
       "      <td>4875</td>\n",
       "    </tr>\n",
       "    <tr>\n",
       "      <th>74101</th>\n",
       "      <td>#юмор #математика</td>\n",
       "      <td>19</td>\n",
       "      <td>7</td>\n",
       "      <td>2675</td>\n",
       "    </tr>\n",
       "    <tr>\n",
       "      <th>74097</th>\n",
       "      <td>В компьютерной гарфике для представления 3d об...</td>\n",
       "      <td>15</td>\n",
       "      <td>5</td>\n",
       "      <td>3292</td>\n",
       "    </tr>\n",
       "    <tr>\n",
       "      <th>...</th>\n",
       "      <td>...</td>\n",
       "      <td>...</td>\n",
       "      <td>...</td>\n",
       "      <td>...</td>\n",
       "    </tr>\n",
       "    <tr>\n",
       "      <th>72497</th>\n",
       "      <td>#юмор #математика</td>\n",
       "      <td>61</td>\n",
       "      <td>8</td>\n",
       "      <td>6524</td>\n",
       "    </tr>\n",
       "    <tr>\n",
       "      <th>72475</th>\n",
       "      <td>Как решать такие уравнения?\\n#задача #математика</td>\n",
       "      <td>69</td>\n",
       "      <td>43</td>\n",
       "      <td>8693</td>\n",
       "    </tr>\n",
       "    <tr>\n",
       "      <th>72467</th>\n",
       "      <td>#юмор #математика</td>\n",
       "      <td>61</td>\n",
       "      <td>3</td>\n",
       "      <td>5689</td>\n",
       "    </tr>\n",
       "    <tr>\n",
       "      <th>72460</th>\n",
       "      <td>Определите наименьшее натуральное число N, сре...</td>\n",
       "      <td>9</td>\n",
       "      <td>3</td>\n",
       "      <td>3227</td>\n",
       "    </tr>\n",
       "    <tr>\n",
       "      <th>72444</th>\n",
       "      <td>Визуализация плотности населения Земли построе...</td>\n",
       "      <td>75</td>\n",
       "      <td>3</td>\n",
       "      <td>9854</td>\n",
       "    </tr>\n",
       "  </tbody>\n",
       "</table>\n",
       "<p>200 rows × 4 columns</p>\n",
       "</div>"
      ],
      "text/plain": [
       "                                                      text  likes  comments  \\\n",
       "post_id                                                                       \n",
       "74151    «Никто не воспринимал всерьез то, что я делал,...     28         1   \n",
       "74140                                    #юмор #математика      9         1   \n",
       "74115                       #задача #математика #геометрия     33        24   \n",
       "74101                                    #юмор #математика     19         7   \n",
       "74097    В компьютерной гарфике для представления 3d об...     15         5   \n",
       "...                                                    ...    ...       ...   \n",
       "72497                                    #юмор #математика     61         8   \n",
       "72475     Как решать такие уравнения?\\n#задача #математика     69        43   \n",
       "72467                                    #юмор #математика     61         3   \n",
       "72460    Определите наименьшее натуральное число N, сре...      9         3   \n",
       "72444    Визуализация плотности населения Земли построе...     75         3   \n",
       "\n",
       "         views  \n",
       "post_id         \n",
       "74151      894  \n",
       "74140     1950  \n",
       "74115     4875  \n",
       "74101     2675  \n",
       "74097     3292  \n",
       "...        ...  \n",
       "72497     6524  \n",
       "72475     8693  \n",
       "72467     5689  \n",
       "72460     3227  \n",
       "72444     9854  \n",
       "\n",
       "[200 rows x 4 columns]"
      ]
     },
     "execution_count": 51,
     "metadata": {},
     "output_type": "execute_result"
    }
   ],
   "source": [
    "df"
   ]
  },
  {
   "cell_type": "markdown",
   "id": "50bd1052-6873-4b6f-98ab-a0c08aec92c8",
   "metadata": {},
   "source": [
    "Построим гистограмму распределения каждой метрики качества для данной группы ВКонткте"
   ]
  },
  {
   "cell_type": "code",
   "execution_count": 53,
   "id": "9ce4a40d-efc1-4ce2-be6e-632f63fdcf64",
   "metadata": {},
   "outputs": [
    {
     "data": {
      "image/png": "[encoded data removed]",
      "text/plain": [
       "<Figure size 640x480 with 4 Axes>"
      ]
     },
     "metadata": {},
     "output_type": "display_data"
    }
   ],
   "source": [
    "df.hist();"
   ]
  }
 ],
 "metadata": {
  "kernelspec": {
   "display_name": "Pyspark_kernel",
   "language": "python",
   "name": "pyspark_kernel"
  },
  "language_info": {
   "codemirror_mode": {
    "name": "ipython",
    "version": 3
   },
   "file_extension": ".py",
   "mimetype": "text/x-python",
   "name": "python",
   "nbconvert_exporter": "python",
   "pygments_lexer": "ipython3",
   "version": "3.11.8"
  }
 },
 "nbformat": 4,
 "nbformat_minor": 5
}
